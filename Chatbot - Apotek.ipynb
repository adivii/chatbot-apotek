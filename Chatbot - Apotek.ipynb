{
 "cells": [
  {
   "cell_type": "code",
   "execution_count": 79,
   "metadata": {},
   "outputs": [
    {
     "name": "stderr",
     "output_type": "stream",
     "text": [
      "[nltk_data] Downloading package punkt to\n",
      "[nltk_data]     C:\\Users\\adiha\\AppData\\Roaming\\nltk_data...\n",
      "[nltk_data]   Package punkt is already up-to-date!\n",
      "[nltk_data] Downloading package wordnet to\n",
      "[nltk_data]     C:\\Users\\adiha\\AppData\\Roaming\\nltk_data...\n",
      "[nltk_data]   Package wordnet is already up-to-date!\n",
      "[nltk_data] Downloading package omw-1.4 to\n",
      "[nltk_data]     C:\\Users\\adiha\\AppData\\Roaming\\nltk_data...\n",
      "[nltk_data]   Package omw-1.4 is already up-to-date!\n"
     ]
    },
    {
     "data": {
      "text/plain": [
       "True"
      ]
     },
     "execution_count": 79,
     "metadata": {},
     "output_type": "execute_result"
    }
   ],
   "source": [
    "import json\n",
    "import random\n",
    "import string\n",
    "import os\n",
    "import pandas as pd\n",
    "import re\n",
    "\n",
    "import nltk\n",
    "import numpy as np\n",
    "import tensorflow as tf\n",
    "from tensorflow.keras import Sequential\n",
    "from tensorflow.keras.layers import Dense, Dropout\n",
    "from Sastrawi.Stemmer.StemmerFactory import StemmerFactory\n",
    "\n",
    "nltk.download(\"punkt\")\n",
    "nltk.download(\"wordnet\")\n",
    "nltk.download('omw-1.4')"
   ]
  },
  {
   "cell_type": "markdown",
   "metadata": {},
   "source": [
    "## Building Model - Method 1"
   ]
  },
  {
   "cell_type": "code",
   "execution_count": 2,
   "metadata": {},
   "outputs": [
    {
     "name": "stdout",
     "output_type": "stream",
     "text": [
      "E:\\Documents\\Coding\\Notebooks\\Chatbot\\apotek\n"
     ]
    }
   ],
   "source": [
    "os.chdir(\"E:\\\\Documents\\\\Coding\\\\Notebooks\\\\Chatbot\\\\apotek\")\n",
    "print(os.getcwd())"
   ]
  },
  {
   "cell_type": "code",
   "execution_count": 45,
   "metadata": {},
   "outputs": [],
   "source": [
    "data_file = open(\"data.json\").read()\n",
    "data = json.loads(data_file)"
   ]
  },
  {
   "cell_type": "code",
   "execution_count": 46,
   "metadata": {},
   "outputs": [],
   "source": [
    "words = []\n",
    "classes = []\n",
    "data_X = []\n",
    "data_y = []"
   ]
  },
  {
   "cell_type": "code",
   "execution_count": 47,
   "metadata": {},
   "outputs": [],
   "source": [
    "for intent in data[\"intents\"]:\n",
    "    for pattern in intent[\"patterns\"]:\n",
    "        tokens = nltk.word_tokenize(pattern)\n",
    "        words.extend(tokens)\n",
    "        data_X.append(pattern)\n",
    "        data_y.append(intent[\"tag\"])\n",
    "    \n",
    "    if intent[\"tag\"] not in classes:\n",
    "        classes.append(intent[\"tag\"])"
   ]
  },
  {
   "cell_type": "code",
   "execution_count": 48,
   "metadata": {},
   "outputs": [],
   "source": [
    "# words = list(set(words))"
   ]
  },
  {
   "cell_type": "code",
   "execution_count": 49,
   "metadata": {},
   "outputs": [],
   "source": [
    "# create stemmer\n",
    "factory = StemmerFactory()\n",
    "stemmer = factory.create_stemmer()"
   ]
  },
  {
   "cell_type": "code",
   "execution_count": 50,
   "metadata": {},
   "outputs": [
    {
     "name": "stdout",
     "output_type": "stream",
     "text": [
      "ekonomi indonesia sedang dalam tumbuh yang bangga\n"
     ]
    }
   ],
   "source": [
    "# stemming process\n",
    "sentence = 'Perekonomian Indonesia sedang dalam pertumbuhan yang membanggakan'\n",
    "output   = stemmer.stem(sentence)\n",
    "\n",
    "print(output)"
   ]
  },
  {
   "cell_type": "code",
   "execution_count": 51,
   "metadata": {},
   "outputs": [],
   "source": [
    "words = [stemmer.stem(word.lower()) for word in words]\n",
    "words = sorted(set(words))\n",
    "classes = sorted(set(classes))"
   ]
  },
  {
   "cell_type": "code",
   "execution_count": 52,
   "metadata": {},
   "outputs": [],
   "source": [
    "training = []\n",
    "out_empty = [0] * len(classes)"
   ]
  },
  {
   "cell_type": "code",
   "execution_count": 53,
   "metadata": {},
   "outputs": [],
   "source": [
    "for idx, doc in enumerate(data_X):\n",
    "    bow = []\n",
    "    text = stemmer.stem(doc.lower())\n",
    "    for word in words:\n",
    "        bow.append(1) if word in text else bow.append(0)\n",
    "        \n",
    "    output_row = list(out_empty)\n",
    "    output_row[classes.index(data_y[idx])] = 1\n",
    "    \n",
    "    training.append([bow, output_row])"
   ]
  },
  {
   "cell_type": "code",
   "execution_count": 54,
   "metadata": {},
   "outputs": [],
   "source": [
    "random.shuffle(training)\n",
    "training = np.array(training, dtype=object)\n",
    "\n",
    "train_X = np.array(list(training[:,0]))\n",
    "train_Y = np.array(list(training[:,1]))"
   ]
  },
  {
   "cell_type": "code",
   "execution_count": 55,
   "metadata": {},
   "outputs": [
    {
     "name": "stdout",
     "output_type": "stream",
     "text": [
      "[0 0 0 0 0 0 0 0 0 0 0 0 0 0 0 0 0 0 0 0 0 0 0 0 0 0 0 0 0 0 0 0 0 0 0 0 0\n",
      " 0 0 0 0 0 0 0 0 0 0 0 0 0 0 0 0 0 0 0 0 0 0 0 0 0 0 0 0 0 0 0 0 0 0 0 0 0\n",
      " 0 0 0 0 0 0 0 0 0 0 0 0 0 0 0 0 0 0 0 0 0 0 0 0 0 0 0 0 0 0 0 0 0 0 0 0 0\n",
      " 0 0 0 0 0 0 0 0 0 0 0 0 0 0 0 0 0 0 0 0 0 0 0 0 0 0 0 0 0 0 0 0 0 0 0 0 0\n",
      " 0 0 0 0 0 0 0 0 0 0 0 0 0 0 0 0 0 0 0 0 0 0 0 0 0 0 0 0 0 0 0 0 0 0 0 1 0\n",
      " 0 0 0 0 0 0 0 0 0 0 0 0 0 0 0 0 0 0 0 0 0 0 0 0 0 0 0 0 0 0 0 0 0 0 0 0 0\n",
      " 0 0 0 0 0 0 0 0 0 0 0 0 0 0 0 0 0 0 0 0 0 0 0 0 0 0 0 0 0 0 0 0 0 0 0 0 0\n",
      " 0 0 0 0 0 0 0 0 0 0 0 0 0 0 0 0 0 0 0 0 0 0 0 0 0 0 0 0 0 0 0 0 0 0 0 0 0\n",
      " 0 0 0 0 0 0 0 0 0 0 0 0 0 0 0 0 0 0 0 0 0 0 0 0 0 0 0 0 0 0 0 0 0 0 0 0 0\n",
      " 0 0 0 0 0 0 0 0 0 0 0 0 0 0 0 0 0 0 0 0 0 0 0 0 0 0 0 0 0 0 0 0 0 0 0 0 0\n",
      " 0 0 0 0 0 0 0 0 0 0 0 0 0 0 0 0 0 0 0 0 0 0 0 0 0 0 0 0 0 0 0 0 0 0 0 0 0\n",
      " 0 0 0 0 0 0 0 0 0 0 0 0 0 0 0 0 0 0 0 0 0 0]\n"
     ]
    }
   ],
   "source": [
    "print(train_Y[11])"
   ]
  },
  {
   "cell_type": "code",
   "execution_count": 132,
   "metadata": {},
   "outputs": [
    {
     "name": "stdout",
     "output_type": "stream",
     "text": [
      "Model: \"sequential_18\"\n",
      "_________________________________________________________________\n",
      " Layer (type)                Output Shape              Param #   \n",
      "=================================================================\n",
      " dense_60 (Dense)            (None, 512)               375808    \n",
      "                                                                 \n",
      " dropout_40 (Dropout)        (None, 512)               0         \n",
      "                                                                 \n",
      " dense_61 (Dense)            (None, 256)               131328    \n",
      "                                                                 \n",
      " dropout_41 (Dropout)        (None, 256)               0         \n",
      "                                                                 \n",
      " dense_62 (Dense)            (None, 429)               110253    \n",
      "                                                                 \n",
      "=================================================================\n",
      "Total params: 617,389\n",
      "Trainable params: 617,389\n",
      "Non-trainable params: 0\n",
      "_________________________________________________________________\n",
      "None\n",
      "Epoch 1/150\n",
      "163/163 [==============================] - 3s 10ms/step - loss: 5.2721 - accuracy: 0.0804\n",
      "Epoch 2/150\n",
      "163/163 [==============================] - 2s 10ms/step - loss: 3.6269 - accuracy: 0.2571\n",
      "Epoch 3/150\n",
      "163/163 [==============================] - 2s 10ms/step - loss: 2.9346 - accuracy: 0.3830\n",
      "Epoch 4/150\n",
      "163/163 [==============================] - 2s 10ms/step - loss: 2.7201 - accuracy: 0.4430\n",
      "Epoch 5/150\n",
      "163/163 [==============================] - 2s 11ms/step - loss: 2.5393 - accuracy: 0.4659\n",
      "Epoch 6/150\n",
      "163/163 [==============================] - 2s 9ms/step - loss: 2.4324 - accuracy: 0.5006\n",
      "Epoch 7/150\n",
      "163/163 [==============================] - 2s 11ms/step - loss: 2.3561 - accuracy: 0.5185\n",
      "Epoch 8/150\n",
      "163/163 [==============================] - 2s 10ms/step - loss: 2.4072 - accuracy: 0.5308\n",
      "Epoch 9/150\n",
      "163/163 [==============================] - 2s 10ms/step - loss: 2.2821 - accuracy: 0.5446\n",
      "Epoch 10/150\n",
      "163/163 [==============================] - 2s 10ms/step - loss: 2.3130 - accuracy: 0.5649\n",
      "Epoch 11/150\n",
      "163/163 [==============================] - 2s 14ms/step - loss: 2.3556 - accuracy: 0.5531\n",
      "Epoch 12/150\n",
      "163/163 [==============================] - 2s 14ms/step - loss: 2.3306 - accuracy: 0.5724\n",
      "Epoch 13/150\n",
      "163/163 [==============================] - 2s 13ms/step - loss: 2.1925 - accuracy: 0.5828\n",
      "Epoch 14/150\n",
      "163/163 [==============================] - 2s 13ms/step - loss: 2.1416 - accuracy: 0.6032\n",
      "Epoch 15/150\n",
      "163/163 [==============================] - 3s 17ms/step - loss: 2.1096 - accuracy: 0.6101\n",
      "Epoch 16/150\n",
      "163/163 [==============================] - 3s 16ms/step - loss: 2.3278 - accuracy: 0.6022\n",
      "Epoch 17/150\n",
      "163/163 [==============================] - 4s 23ms/step - loss: 2.3282 - accuracy: 0.5982\n",
      "Epoch 18/150\n",
      "163/163 [==============================] - 3s 18ms/step - loss: 2.3603 - accuracy: 0.5872\n",
      "Epoch 19/150\n",
      "163/163 [==============================] - 3s 20ms/step - loss: 2.2889 - accuracy: 0.6014\n",
      "Epoch 20/150\n",
      "163/163 [==============================] - 3s 20ms/step - loss: 2.2877 - accuracy: 0.6159\n",
      "Epoch 21/150\n",
      "163/163 [==============================] - 4s 27ms/step - loss: 2.3870 - accuracy: 0.6059\n",
      "Epoch 22/150\n",
      "163/163 [==============================] - 3s 17ms/step - loss: 2.2338 - accuracy: 0.6116\n",
      "Epoch 23/150\n",
      "163/163 [==============================] - 3s 20ms/step - loss: 2.2172 - accuracy: 0.6130\n",
      "Epoch 24/150\n",
      "163/163 [==============================] - 3s 19ms/step - loss: 2.2949 - accuracy: 0.6155\n",
      "Epoch 25/150\n",
      "163/163 [==============================] - 3s 17ms/step - loss: 2.3520 - accuracy: 0.6157\n",
      "Epoch 26/150\n",
      "163/163 [==============================] - 3s 19ms/step - loss: 2.2096 - accuracy: 0.6338\n",
      "Epoch 27/150\n",
      "163/163 [==============================] - 3s 21ms/step - loss: 2.3147 - accuracy: 0.6295\n",
      "Epoch 28/150\n",
      "163/163 [==============================] - 3s 18ms/step - loss: 2.2842 - accuracy: 0.6263\n",
      "Epoch 29/150\n",
      "163/163 [==============================] - 3s 15ms/step - loss: 2.2891 - accuracy: 0.6216\n",
      "Epoch 30/150\n",
      "163/163 [==============================] - 3s 16ms/step - loss: 2.2496 - accuracy: 0.6301\n",
      "Epoch 31/150\n",
      "163/163 [==============================] - 2s 14ms/step - loss: 2.3309 - accuracy: 0.6438\n",
      "Epoch 32/150\n",
      "163/163 [==============================] - 3s 17ms/step - loss: 2.2704 - accuracy: 0.6328\n",
      "Epoch 33/150\n",
      "163/163 [==============================] - 3s 16ms/step - loss: 2.4304 - accuracy: 0.6345\n",
      "Epoch 34/150\n",
      "163/163 [==============================] - 3s 16ms/step - loss: 2.4002 - accuracy: 0.6459\n",
      "Epoch 35/150\n",
      "163/163 [==============================] - 3s 20ms/step - loss: 2.4242 - accuracy: 0.6399\n",
      "Epoch 36/150\n",
      "163/163 [==============================] - 3s 20ms/step - loss: 2.5004 - accuracy: 0.6322\n",
      "Epoch 37/150\n",
      "163/163 [==============================] - 3s 19ms/step - loss: 2.3441 - accuracy: 0.6411\n",
      "Epoch 38/150\n",
      "163/163 [==============================] - 3s 18ms/step - loss: 2.2578 - accuracy: 0.6447\n",
      "Epoch 39/150\n",
      "163/163 [==============================] - 3s 16ms/step - loss: 2.3303 - accuracy: 0.6476\n",
      "Epoch 40/150\n",
      "163/163 [==============================] - 3s 20ms/step - loss: 2.2106 - accuracy: 0.6476\n",
      "Epoch 41/150\n",
      "163/163 [==============================] - 3s 19ms/step - loss: 2.3409 - accuracy: 0.6542\n",
      "Epoch 42/150\n",
      "163/163 [==============================] - 3s 15ms/step - loss: 2.3420 - accuracy: 0.6470\n",
      "Epoch 43/150\n",
      "163/163 [==============================] - 3s 20ms/step - loss: 2.3323 - accuracy: 0.6484\n",
      "Epoch 44/150\n",
      "163/163 [==============================] - 4s 21ms/step - loss: 2.5730 - accuracy: 0.6353\n",
      "Epoch 45/150\n",
      "163/163 [==============================] - 3s 18ms/step - loss: 2.4703 - accuracy: 0.6486\n",
      "Epoch 46/150\n",
      "163/163 [==============================] - 2s 15ms/step - loss: 2.3464 - accuracy: 0.6488\n",
      "Epoch 47/150\n",
      "163/163 [==============================] - 2s 14ms/step - loss: 2.4519 - accuracy: 0.6384\n",
      "Epoch 48/150\n",
      "163/163 [==============================] - 2s 14ms/step - loss: 2.4966 - accuracy: 0.6363\n",
      "Epoch 49/150\n",
      "163/163 [==============================] - 2s 12ms/step - loss: 2.4965 - accuracy: 0.6443\n",
      "Epoch 50/150\n",
      "163/163 [==============================] - 2s 15ms/step - loss: 2.5899 - accuracy: 0.6453\n",
      "Epoch 51/150\n",
      "163/163 [==============================] - 2s 14ms/step - loss: 2.2439 - accuracy: 0.6528\n",
      "Epoch 52/150\n",
      "163/163 [==============================] - 2s 12ms/step - loss: 2.2661 - accuracy: 0.6617\n",
      "Epoch 53/150\n",
      "163/163 [==============================] - 2s 12ms/step - loss: 2.7205 - accuracy: 0.6470\n",
      "Epoch 54/150\n",
      "163/163 [==============================] - 2s 11ms/step - loss: 2.5550 - accuracy: 0.6465\n",
      "Epoch 55/150\n",
      "163/163 [==============================] - 2s 12ms/step - loss: 2.3289 - accuracy: 0.6467\n",
      "Epoch 56/150\n",
      "163/163 [==============================] - 2s 11ms/step - loss: 2.4161 - accuracy: 0.6511\n",
      "Epoch 57/150\n",
      "163/163 [==============================] - 2s 14ms/step - loss: 2.4909 - accuracy: 0.6497\n",
      "Epoch 58/150\n",
      "163/163 [==============================] - 3s 20ms/step - loss: 2.4384 - accuracy: 0.6551\n",
      "Epoch 59/150\n",
      "163/163 [==============================] - 3s 17ms/step - loss: 2.4305 - accuracy: 0.6476\n",
      "Epoch 60/150\n",
      "163/163 [==============================] - 3s 17ms/step - loss: 2.4124 - accuracy: 0.6424\n",
      "Epoch 61/150\n",
      "163/163 [==============================] - 3s 16ms/step - loss: 2.6855 - accuracy: 0.6434\n",
      "Epoch 62/150\n",
      "163/163 [==============================] - 3s 16ms/step - loss: 2.5626 - accuracy: 0.6501\n",
      "Epoch 63/150\n",
      "163/163 [==============================] - 2s 15ms/step - loss: 2.2976 - accuracy: 0.6543\n",
      "Epoch 64/150\n",
      "163/163 [==============================] - 3s 16ms/step - loss: 2.4184 - accuracy: 0.6497\n",
      "Epoch 65/150\n",
      "163/163 [==============================] - 3s 15ms/step - loss: 2.3251 - accuracy: 0.6482\n",
      "Epoch 66/150\n",
      "163/163 [==============================] - 3s 16ms/step - loss: 2.4262 - accuracy: 0.6524\n",
      "Epoch 67/150\n",
      "163/163 [==============================] - 3s 17ms/step - loss: 2.3548 - accuracy: 0.6538\n",
      "Epoch 68/150\n",
      "163/163 [==============================] - 3s 15ms/step - loss: 2.7542 - accuracy: 0.6517\n",
      "Epoch 69/150\n",
      "163/163 [==============================] - 4s 22ms/step - loss: 2.7175 - accuracy: 0.6257\n",
      "Epoch 70/150\n",
      "163/163 [==============================] - 3s 18ms/step - loss: 2.7919 - accuracy: 0.6289\n",
      "Epoch 71/150\n",
      "163/163 [==============================] - 3s 18ms/step - loss: 2.6112 - accuracy: 0.6470\n",
      "Epoch 72/150\n",
      "163/163 [==============================] - 2s 14ms/step - loss: 2.5339 - accuracy: 0.6441\n",
      "Epoch 73/150\n",
      "163/163 [==============================] - 2s 11ms/step - loss: 2.6636 - accuracy: 0.6401\n",
      "Epoch 74/150\n",
      "163/163 [==============================] - 2s 12ms/step - loss: 2.6769 - accuracy: 0.6488\n",
      "Epoch 75/150\n",
      "163/163 [==============================] - 2s 13ms/step - loss: 2.4366 - accuracy: 0.6390\n",
      "Epoch 76/150\n",
      "163/163 [==============================] - 2s 12ms/step - loss: 2.4663 - accuracy: 0.6520\n",
      "Epoch 77/150\n",
      "163/163 [==============================] - 2s 12ms/step - loss: 2.6703 - accuracy: 0.6330\n",
      "Epoch 78/150\n",
      "163/163 [==============================] - 2s 12ms/step - loss: 3.0436 - accuracy: 0.6334\n",
      "Epoch 79/150\n",
      "163/163 [==============================] - 2s 13ms/step - loss: 2.3869 - accuracy: 0.6547\n",
      "Epoch 80/150\n",
      "163/163 [==============================] - 2s 11ms/step - loss: 2.6102 - accuracy: 0.6363\n",
      "Epoch 81/150\n",
      "163/163 [==============================] - 2s 12ms/step - loss: 2.5494 - accuracy: 0.6447\n",
      "Epoch 82/150\n",
      "163/163 [==============================] - 2s 12ms/step - loss: 2.5448 - accuracy: 0.6468\n",
      "Epoch 83/150\n",
      "163/163 [==============================] - 2s 11ms/step - loss: 2.6341 - accuracy: 0.6467\n",
      "Epoch 84/150\n",
      "163/163 [==============================] - 2s 12ms/step - loss: 2.4809 - accuracy: 0.6567\n",
      "Epoch 85/150\n",
      "163/163 [==============================] - 2s 11ms/step - loss: 2.4922 - accuracy: 0.6520\n",
      "Epoch 86/150\n",
      "163/163 [==============================] - 2s 12ms/step - loss: 2.8311 - accuracy: 0.6347\n",
      "Epoch 87/150\n",
      "163/163 [==============================] - 2s 12ms/step - loss: 3.0300 - accuracy: 0.6470\n",
      "Epoch 88/150\n",
      "163/163 [==============================] - 2s 13ms/step - loss: 2.5947 - accuracy: 0.6553\n",
      "Epoch 89/150\n",
      "163/163 [==============================] - 2s 13ms/step - loss: 2.6714 - accuracy: 0.6513\n",
      "Epoch 90/150\n",
      "163/163 [==============================] - 2s 13ms/step - loss: 2.5466 - accuracy: 0.6520\n",
      "Epoch 91/150\n",
      "163/163 [==============================] - 2s 13ms/step - loss: 3.0668 - accuracy: 0.6476\n",
      "Epoch 92/150\n",
      "163/163 [==============================] - 3s 19ms/step - loss: 2.8422 - accuracy: 0.6259\n",
      "Epoch 93/150\n",
      "163/163 [==============================] - 3s 18ms/step - loss: 2.7963 - accuracy: 0.6334\n",
      "Epoch 94/150\n",
      "163/163 [==============================] - 3s 17ms/step - loss: 2.8021 - accuracy: 0.6357\n",
      "Epoch 95/150\n",
      "163/163 [==============================] - 3s 18ms/step - loss: 2.5550 - accuracy: 0.6380\n",
      "Epoch 96/150\n",
      "163/163 [==============================] - 3s 18ms/step - loss: 2.4337 - accuracy: 0.6528\n",
      "Epoch 97/150\n",
      "163/163 [==============================] - 3s 17ms/step - loss: 2.7173 - accuracy: 0.6376\n",
      "Epoch 98/150\n",
      "163/163 [==============================] - 3s 18ms/step - loss: 2.6648 - accuracy: 0.6303\n",
      "Epoch 99/150\n",
      "163/163 [==============================] - 3s 16ms/step - loss: 2.6946 - accuracy: 0.6253\n",
      "Epoch 100/150\n",
      "163/163 [==============================] - 2s 15ms/step - loss: 2.5974 - accuracy: 0.6291\n",
      "Epoch 101/150\n",
      "163/163 [==============================] - 3s 16ms/step - loss: 2.8596 - accuracy: 0.6205\n",
      "Epoch 102/150\n",
      "163/163 [==============================] - 3s 16ms/step - loss: 2.8406 - accuracy: 0.6359\n",
      "Epoch 103/150\n",
      "163/163 [==============================] - 3s 16ms/step - loss: 2.8517 - accuracy: 0.6166\n",
      "Epoch 104/150\n",
      "163/163 [==============================] - 3s 17ms/step - loss: 2.7797 - accuracy: 0.6328\n",
      "Epoch 105/150\n",
      "163/163 [==============================] - 3s 19ms/step - loss: 2.7392 - accuracy: 0.6243\n",
      "Epoch 106/150\n",
      "163/163 [==============================] - 3s 21ms/step - loss: 2.7832 - accuracy: 0.6293\n",
      "Epoch 107/150\n",
      "163/163 [==============================] - 3s 17ms/step - loss: 2.8024 - accuracy: 0.6128\n",
      "Epoch 108/150\n",
      "163/163 [==============================] - 3s 16ms/step - loss: 2.7338 - accuracy: 0.6201\n",
      "Epoch 109/150\n",
      "163/163 [==============================] - 3s 16ms/step - loss: 2.7125 - accuracy: 0.6182\n",
      "Epoch 110/150\n",
      "163/163 [==============================] - 2s 14ms/step - loss: 2.8104 - accuracy: 0.6149\n",
      "Epoch 111/150\n",
      "163/163 [==============================] - 2s 15ms/step - loss: 2.7636 - accuracy: 0.6189\n",
      "Epoch 112/150\n",
      "163/163 [==============================] - 2s 14ms/step - loss: 2.9046 - accuracy: 0.5966\n",
      "Epoch 113/150\n",
      "163/163 [==============================] - 2s 14ms/step - loss: 2.8985 - accuracy: 0.6066\n",
      "Epoch 114/150\n",
      "163/163 [==============================] - 4s 23ms/step - loss: 2.8641 - accuracy: 0.6109\n",
      "Epoch 115/150\n",
      "163/163 [==============================] - 3s 18ms/step - loss: 2.7055 - accuracy: 0.6080\n",
      "Epoch 116/150\n",
      "163/163 [==============================] - 3s 17ms/step - loss: 2.9368 - accuracy: 0.6018\n",
      "Epoch 117/150\n",
      "163/163 [==============================] - 3s 16ms/step - loss: 2.9356 - accuracy: 0.6126\n",
      "Epoch 118/150\n",
      "163/163 [==============================] - 2s 14ms/step - loss: 2.9598 - accuracy: 0.6099\n",
      "Epoch 119/150\n",
      "163/163 [==============================] - 2s 12ms/step - loss: 2.8734 - accuracy: 0.6103\n",
      "Epoch 120/150\n",
      "163/163 [==============================] - 2s 13ms/step - loss: 2.9048 - accuracy: 0.6141\n",
      "Epoch 121/150\n",
      "163/163 [==============================] - 2s 13ms/step - loss: 2.7250 - accuracy: 0.6211\n",
      "Epoch 122/150\n",
      "163/163 [==============================] - 2s 13ms/step - loss: 2.8678 - accuracy: 0.6153\n",
      "Epoch 123/150\n",
      "163/163 [==============================] - 2s 12ms/step - loss: 2.8427 - accuracy: 0.6033\n",
      "Epoch 124/150\n",
      "163/163 [==============================] - 2s 12ms/step - loss: 2.8748 - accuracy: 0.6066\n",
      "Epoch 125/150\n",
      "163/163 [==============================] - 2s 12ms/step - loss: 2.9433 - accuracy: 0.6120\n",
      "Epoch 126/150\n",
      "163/163 [==============================] - 3s 17ms/step - loss: 2.8565 - accuracy: 0.6033\n",
      "Epoch 127/150\n",
      "163/163 [==============================] - 3s 20ms/step - loss: 3.0859 - accuracy: 0.6032\n",
      "Epoch 128/150\n",
      "163/163 [==============================] - 4s 23ms/step - loss: 3.0348 - accuracy: 0.6014\n",
      "Epoch 129/150\n",
      "163/163 [==============================] - 3s 16ms/step - loss: 3.0400 - accuracy: 0.5962\n",
      "Epoch 130/150\n",
      "163/163 [==============================] - 3s 18ms/step - loss: 2.6090 - accuracy: 0.6114\n",
      "Epoch 131/150\n",
      "163/163 [==============================] - 3s 16ms/step - loss: 3.2841 - accuracy: 0.6037\n",
      "Epoch 132/150\n",
      "163/163 [==============================] - 3s 16ms/step - loss: 2.9029 - accuracy: 0.6022\n",
      "Epoch 133/150\n",
      "163/163 [==============================] - 3s 19ms/step - loss: 2.8654 - accuracy: 0.6084\n",
      "Epoch 134/150\n",
      "163/163 [==============================] - 2s 14ms/step - loss: 3.0467 - accuracy: 0.5980\n",
      "Epoch 135/150\n",
      "163/163 [==============================] - 3s 19ms/step - loss: 3.1069 - accuracy: 0.6022\n",
      "Epoch 136/150\n",
      "163/163 [==============================] - 3s 16ms/step - loss: 3.1017 - accuracy: 0.5922\n",
      "Epoch 137/150\n",
      "163/163 [==============================] - 3s 16ms/step - loss: 2.9571 - accuracy: 0.6068\n",
      "Epoch 138/150\n",
      "163/163 [==============================] - 2s 15ms/step - loss: 2.9051 - accuracy: 0.5851\n",
      "Epoch 139/150\n",
      "163/163 [==============================] - 2s 14ms/step - loss: 2.7904 - accuracy: 0.6066\n",
      "Epoch 140/150\n",
      "163/163 [==============================] - 2s 14ms/step - loss: 2.8371 - accuracy: 0.6043\n",
      "Epoch 141/150\n",
      "163/163 [==============================] - 2s 14ms/step - loss: 3.2548 - accuracy: 0.5878\n",
      "Epoch 142/150\n",
      "163/163 [==============================] - 2s 12ms/step - loss: 3.1891 - accuracy: 0.5864\n",
      "Epoch 143/150\n",
      "163/163 [==============================] - 2s 13ms/step - loss: 3.3494 - accuracy: 0.5695\n",
      "Epoch 144/150\n",
      "163/163 [==============================] - 2s 12ms/step - loss: 2.9118 - accuracy: 0.5906\n",
      "Epoch 145/150\n",
      "163/163 [==============================] - 2s 12ms/step - loss: 3.0779 - accuracy: 0.5822\n",
      "Epoch 146/150\n",
      "163/163 [==============================] - 2s 12ms/step - loss: 3.1949 - accuracy: 0.5801\n",
      "Epoch 147/150\n",
      "163/163 [==============================] - 2s 12ms/step - loss: 2.7526 - accuracy: 0.5845\n",
      "Epoch 148/150\n",
      "163/163 [==============================] - 3s 17ms/step - loss: 3.1727 - accuracy: 0.5702\n",
      "Epoch 149/150\n",
      "163/163 [==============================] - 3s 17ms/step - loss: 2.9480 - accuracy: 0.5804\n",
      "Epoch 150/150\n",
      "163/163 [==============================] - 2s 15ms/step - loss: 3.1272 - accuracy: 0.5724\n"
     ]
    },
    {
     "data": {
      "text/plain": [
       "<keras.callbacks.History at 0x25bf4fa8f10>"
      ]
     },
     "execution_count": 132,
     "metadata": {},
     "output_type": "execute_result"
    }
   ],
   "source": [
    "model = Sequential()\n",
    "# model.add(Dense(256, input_shape=(len(train_X[0]),), activation=\"relu\"))\n",
    "# model.add(Dropout(0.5))\n",
    "model.add(Dense(512, input_shape=(len(train_X[0]),), activation=\"relu\"))\n",
    "model.add(Dropout(0.5))\n",
    "model.add(Dense(256, activation=\"relu\"))\n",
    "model.add(Dropout(0.5))\n",
    "# model.add(Dense(32, activation='sigmoid'))\n",
    "model.add(Dense(len(train_Y[0]), activation=\"softmax\"))\n",
    "\n",
    "adam = tf.keras.optimizers.Adam(learning_rate=0.01, decay=1e-6)\n",
    "model.compile(loss=\"categorical_crossentropy\", optimizer=adam, metrics=[\"accuracy\"])\n",
    "\n",
    "print(model.summary())\n",
    "model.fit(x=train_X, y=train_Y, epochs=150, verbose=1)"
   ]
  },
  {
   "cell_type": "code",
   "execution_count": 180,
   "metadata": {},
   "outputs": [],
   "source": [
    "def clean_text(text):\n",
    "    tokens = nltk.word_tokenize(text)\n",
    "    tokens = [stemmer.stem(word.lower()) for word in tokens if word in words]\n",
    "    return tokens"
   ]
  },
  {
   "cell_type": "code",
   "execution_count": 16,
   "metadata": {},
   "outputs": [],
   "source": [
    "def bag_of_words(text, vocab):\n",
    "    tokens = clean_text(text)\n",
    "    bow = [0] * len(vocab)\n",
    "    for w in tokens:\n",
    "        for idx, word in enumerate(vocab):\n",
    "            if word == w:\n",
    "                bow[idx] = 1\n",
    "    return np.array(bow)"
   ]
  },
  {
   "cell_type": "code",
   "execution_count": 74,
   "metadata": {},
   "outputs": [],
   "source": [
    "def pred_class(text, vocab, labels):\n",
    "    bow = bag_of_words(text, vocab)\n",
    "    result = model.predict(np.array([bow]))[0]\n",
    "    thresh = 0.5\n",
    "    y_pred = [[indx, res] for indx, res in enumerate(result) if res > thresh]\n",
    "    y_pred.sort(key=lambda x: x[1], reverse=True)\n",
    "    \n",
    "    return_list = []\n",
    "    for r in y_pred:\n",
    "        return_list.append(labels[r[0]])\n",
    "    \n",
    "    return return_list"
   ]
  },
  {
   "cell_type": "code",
   "execution_count": 18,
   "metadata": {},
   "outputs": [],
   "source": [
    "def get_response(intents_list, intents_json):\n",
    "    if len(intents_list) == 0:\n",
    "        result = \"Sorry! I don't understand\"\n",
    "    else:\n",
    "        tag = intents_list[0]\n",
    "        list_of_intents = intents_json[\"intents\"]\n",
    "        \n",
    "        for i in list_of_intents:\n",
    "            if i[\"tag\"] == tag:\n",
    "                result = random.choice(i[\"responses\"])\n",
    "                break\n",
    "    return result"
   ]
  },
  {
   "cell_type": "code",
   "execution_count": 143,
   "metadata": {},
   "outputs": [
    {
     "name": "stdout",
     "output_type": "stream",
     "text": [
      "INFO:tensorflow:Assets written to: model-2-full_product_name\\assets\n"
     ]
    }
   ],
   "source": [
    "# model.save(\"model-2-full_product_name\")"
   ]
  },
  {
   "cell_type": "markdown",
   "metadata": {},
   "source": [
    "## Testing Model"
   ]
  },
  {
   "cell_type": "code",
   "execution_count": 185,
   "metadata": {},
   "outputs": [
    {
     "name": "stdout",
     "output_type": "stream",
     "text": [
      "1/1 [==============================] - 0s 45ms/step\n",
      "1/1 [==============================] - 0s 54ms/step\n",
      "erha_truewhite_face_toning   0.9999999\n",
      "['erha_truewhite_face_toning']\n"
     ]
    }
   ],
   "source": [
    "message = \"erha truewhite\"\n",
    "intents = pred_class(message, words, classes)\n",
    "result = get_response(intents, data)\n",
    "# print(result)\n",
    "y_pred = [[indx, res] for indx, res in enumerate(model.predict(np.array([bag_of_words(message, words)]))[0]) if res > 0.1]\n",
    "\n",
    "for i in y_pred:\n",
    "    print(classes[i[0]],\" \",i[1])\n",
    "print(intents)"
   ]
  },
  {
   "cell_type": "code",
   "execution_count": null,
   "metadata": {},
   "outputs": [],
   "source": []
  },
  {
   "cell_type": "code",
   "execution_count": 32,
   "metadata": {},
   "outputs": [
    {
     "name": "stdout",
     "output_type": "stream",
     "text": [
      "['4d perfect nose & tip lift', 'abs', 'abs+bpo.25', 'abs+bpo.5', 'acl', 'acne guard cream', 'acne mask', 'acne_peeling', 'acneact bha & mugwort acne body wash 240 ml', 'acneact scar treatment by subcision rf', 'acneact_scar_treatment_by_microneedle_rf', 'acnic', 'acs1', 'acs2', 'acs3', 'acs4', 'acsbp', 'acsm', 'active acne therapy by ipl', 'advance home peeling', 'aef', 'af1', 'af2', 'af3', 'af4', 'af5', 'afp', 'aft', 'aftss', 'ag2', 'age corrector eye serum', 'age corrector firming body serum', 'age corrector nightcharge booster', 'age corrector serum', 'age corrector spot treatment', 'age reversal filler by aesthefill', 'ainf1', 'al1', 'al2', 'alcl3 .2', 'alcl3 10 alcohol', 'alcl3 10 aqua', 'all acs', 'all af', 'all al', 'all alcl', 'all amg', 'all anc', 'all aqua', 'all at', 'all aza', 'all bm', 'all carbamide', 'all cc', 'all clidacor', 'all cushion', 'all elo', 'all ga', 'all hiserha shampoo', 'all restore', 'all scalperfect shampoo', 'am', 'amg1', 'amg10', 'amg2', 'amg3', 'amg4', 'amg5', 'amg6', 'amg7', 'amg8', 'amg9', 'anc1', 'anc2', 'anc3', 'anc4', 'anc5', 'anti acne serum', 'anti wrinkle injection by xeomin', 'app', 'aselo', 'asf', 'asg', 'asm', 'asmd', 'ast', 'at.5', 'at1', 'at2', 'at3', 'aza cream', 'aza gel', 'bedah_electrocauter', 'black carbon glowrejuvenation laser', 'black carbon skinprovement laser', 'blemish soothing serum', 'blue_light_therapy', 'bm10', 'bm25', 'bm50', 'bnc', 'bright_and_glow_therapy', 'brightening facial mask 20g', 'bye melasma therapy', 'c serum', 'c-immune & b-energetic injection', 'c_immune_injection', 'carbamide cream 10', 'carbamide cream 20', 'carbamide lotion', 'cc.5', 'cc10', 'cc25', 'cc5', 'cc50', 'cetrizine', 'circumcision surgery', 'cl1', 'cl2', 'cl3', 'cl4', 'clarifying toner', 'clidacor', 'clidacor gel', 'collagen_rejuvenation_therapy_crt', 'comedo peeling', 'crystal dermabrasion', 'crystal dermabrasion with collagen serum', 'crystal glow peeling', 'deep_pore_cleansing_theraphy', 'deep_pore_cleansing_theraphy_bright serum', 'deep_pore_cleansing_theraphy_c serum', 'deep_pore_cleansing_theraphy_oil control serum', 'deep_pore_cleansing_theraphy_rejuve serum', 'df acne care lab acne spot gel', 'df age corrector day moisturizer', 'df age corrector night moisturizer', 'df eternalips', 'df simply remove', 'dna salmon', 'dna salmon glass skin injection', 'dna salmon skin restoration', 'doxicor', 'doxy plus', 'dry shampoo for oily scalp', 'dry shampoo for sensitive scalp', 'ecc1', 'ecc2', 'ecs', 'elc', 'elo1', 'elo2', 'elo5', 'elopro', 'eqinon', 'erazol medicated shampoo', 'erha acneact ekstraksi milia', 'erha acneact scar treatment by subcision surgery', 'erha acneact wh pore minimizing toner 100 ml', 'erha acneact witch hazel & bha gentle acne facial wash', 'erha acneact witch hazel & chamomile acne blemish toner', 'erha acneact witch hazel & lavender acne calming gel', 'erha age corrector active defense', 'erha age corrector essence', 'erha age corrector facial wash', 'erha age corrector firming neck cream', 'erha age corrector moisture control', 'erha age corrector skin renew 15 ml', 'erha age corrector trial kit', 'erha allderma intra lesion injection', 'erha allderma jahit luka', 'erha allderma skin treatment by co2 laser', 'erha allderma xanthelasma treatment', 'erha beard grow serum 30 ml', 'erha brightening home peeling solution', 'erha hand moisturizing spray with bkc', 'erha hand sanitizer cream 30g', 'erha hand sanitizer gel', 'erha laser by fractional co2', 'erha luminous pearl bb cushion 01 - beige', 'erha luminous pearl bb cushion 01 - ivory', 'erha luminous pearl bb cushion 01 - natural', 'erha perfect shield helios daily spf 50', 'erha rejuvenage ultimate skin restoration by photo ultherapy', 'erha rejuvenation home peeling solution', 'erha scent', 'erha skinsitive dermatologist formularies ultracalm face toner', 'erha skinsitive df ultracalm face serum', 'erha truwhite active glow', 'erha truwhite brightening clay mask', 'erha truwhite brightening day cream', 'erha truwhite brightening face toner', 'erha truwhite brightening facial wash', 'erha truwhite brightening night cream', 'erha truwhite brightening pore toner', 'erha truwhite essential deep pore cleansing therapy', 'erha truwhite vit c & peptide brightening serum', 'erha x aqua re-fresh hydrating face mist', 'erha x aqua re-fresh hydrating lip balm', 'erha x aqua re-fresh hydrating serum', 'erha x aqua re-fresh hydrating sunscreen', 'erha x aqua re-fresh overnight hydrating mask', 'erha1', 'erha10', 'erha11', 'erha21 sweating reducer lotion 30 ml', 'erha21 truwhite activator body scrub 220g', 'erha21 zinc hya ointment', 'erha3', 'erha4', 'erha5', 'erha6', 'erha7', 'erha8', 'erha9', 'erha_light_peeling', 'erha_truewhite_face_toning', 'erha_truewhite_instaradiance_by_ipl', 'erha_truwhite_ultimate_radiance', 'erhair df hair grow serum for all hair type', 'erhair df hair grow shampoo', 'erhair df hair grow tonic', 'erhair removeasy cool sensation hair removal by i2pl', 'erhair restore ceramide & keratin hair shield serum', 'erhair restore ceramide & keratin intense hair mask', 'erhair restore hair moisturizer', 'erhair restore shampoo 100 ml', 'erhair restore shampoo 250 ml', 'erhair restore shampoo 370 ml', 'erhair scalperfect allantoin & silk protein scalp soothing serum', 'erhair scalperfect bha & allantoin scalp exfoliating gel', 'erhair scalperfect shampoo 100 ml', 'erhair scalperfect shampoo 250 ml', 'erhair scalperfect shampoo 370 ml', 'erhair_hair_removal_by_ipl', 'erhalogy brulief skin restoring cream', 'erhalogy df hydrating body balm', 'erhalogy df hydrating body wash for very dry and mature skin', 'erhalogy df hydrating shampoo for very dry and mature hair', 'erhalogy pro callus gel', 'es1', 'es2', 'es3', 'es4', 'es5', 'esme df matte sense primer', 'esme df refill twin silk compact powder', 'esme df true matte', 'esme df twin silk compact powder', 'esme sureface liquid foundation spf20', 'esmo', 'excision / extirpation surgery', 'extraordinhairy growth treatment by growth factor', 'face sculpting skin booster', 'fas', 'fat_away_mesotherapy', 'fcm', 'finasteride', 'foll plus', 'follicore herbal', 'ga1', 'ga15', 'ga2', 'ga20', 'ga30', 'gam', 'glow & go', 'glycore', 'hair_follicle_activation_therapy', 'hair_removal_therapy', 'hairgrow hair moisturizer', 'hbw+el', 'hbw+me', 'helios water', 'hgt forte', 'hgt.5', 'hgt5', 'his erha anti dandruff shampoo 270 ml', 'his erha booster essence', 'his erha booster facial wash 100 g', 'his erha deep cleansing shampoo', 'his erha hairgro shampoo 270 ml', 'hiserha acne body wash', 'hiserha acne essence', 'hiserha energizing body wash', 'hiserha energy bright cream', 'hiserha gentle acne facial wash', 'hiserha grey hair tonic', 'hiserha hair dust', 'hiserha hairgro tonic', 'hiserha mattifying clay', 'hiserha waterbased pomade', 'hua10', 'hua5', 'hydra facial with purifying serum', 'incision surgery', 'injeksi_botox', 'injeksi_filler', 'injeksi_kil', 'intra_lesion_injection_10', 'itch-free scalp treatment', 'la1', 'la2', 'la30', 'laser_photorejuvenation', 'laser_pigmentasi', 'laser_vaskular', 'lcm3', 'lcm5', 'light therapy', 'littlerha df head to toe baby wash', 'littlerha diaper rash cream', 'littlerha skin barrier body moisturizer', 'loracor', 'lrm', 'masker colagen', 'mcb cream', 'md1', 'md2', 'md3', 'md4', 'mederma proaktif gel 20 g', 'mel d', 'mel n', 'melo', 'metcor', 'mn1', 'mn2', 'mn3', 'mn4', 'mn5', 'mn6', 'mn7', 'mn8', 'moa', 'mtc', 'nan', 'nb uvb by excimer laser', 'nb uvb by phototherapy', 'nf2', 'nf3', 'nf7', 'no back and chest acne treatment by ipl', 'office_peeling', 'paket acne home peeling', 'paket anti aging home peeling ? brightening home peeling solution', 'paket anti aging home peeling ? rejuvenation home peeling solution', 'paket erha acneact acne combo therapy', 'paket erha rejuvenage photo-skin tightening therapy', 'panda eyes rejuvenation peeling', 'perfectlift_by_aptos', 'pharmalene gel', 'photorejuvenation laser by picosure', 'photorejuvenation laser for sensitive', 'pico laser treatment with fla', 'pico_laser', 'pigmentation laser treatment by picosure', 'pore & scar minimizing solution with microneedle', 'pore clear pad', 'pore minimizing therapy', 'post acne dark spot fade away by ipl', 'post acne peeling', 'post acne redness fade away by ipl', 'post acne spot serum', 'pred interhistin', 'pred2 interhistin', 'pred2ctm', 'psn', 'pso', 'psoriasis therapy', 'ptc', 'red_light_therapy_face&hair', 'restore coconut & sunflower hair oil', 'reticor cream', 'rh2', 'ryzicor', 'sayonara hair fall treatment / meso nappage', 'sbbm', 'sc', 'scabicore cream', 'scalp gel', 'scalperfect hydrating scalp mask', 'scar treatment by cross technic', 'scar treatment by cryo surgery', 'scar treatment by microneedle', 'scar treatment by picosure', 'scar treatment by punch elevation surgery', 'scar treatment by punch graft', 'single erha allderma skin treatment by co2 laser', 'skin barrier face moisturizer for dry & sensitive skin', 'skin barrier facial wash for dry & sensitive skin', 'skin brightening booster with vital injector', 'skin hydration booster by restylane vit', 'skin hydration booster by restylane vitl', 'skin hydration booster with vital injector', 'skin_booster_with_vital_injector', 'skin_resurfacing', 'skin_tightening_therapy', 'skin_tightening_therapy_by_ulthera', 'skinvestment by active growth factor', 'soothing facial mask 20g', 'su1', 'su2', 'su3', 'su4', 'suction series', 'swc', 'threadlift by s-heart', 'tired face solution', 'tracor', 'treatment active acne photorejuvenation', 'truwhite body brightening cream', 'truwhite brightening body moisturizer 250g', 'truwhite brightening creamy body wash', 'truwhite brightening eye serum', 'truwhite brightening neck cream 30 g', 'truwhite dark spot corrector', 'ues', 'ultimate post acne redness fade away by vbeam', 'ultimate skin reborn by profhilo', 'ultimate younger look solution', 'ultra bright intimate peeling', 'ultra bright underarms peeling', 'ultra smooth peach lip peeling', 'ultracalm face wash', 'ultracalm skin barrier body lotion', 'ultracalm skin barrier moisturizer', 'urban skin defense multi benefit refreshing spray', 'value pack acne care lab series - active acne', 'value pack acne care lab series - post acne', 'value pack age corrector moisturizer', 'value pack basic anti - aging routine', 'value pack erhair restore series', 'value pack erhair shampoo 250 ml & serum', 'value pack erhair shampoo 250 ml & tonic', 'value pack home peeling', 'value pack powerful anti aging series', 'value pack skin barrier body series', 'vp scalperfect series', 'youvit x erha collagen gummy', 'zg', 'zincore']\n"
     ]
    }
   ],
   "source": [
    "print(classes)"
   ]
  }
 ],
 "metadata": {
  "kernelspec": {
   "display_name": "Python 3 (ipykernel)",
   "language": "python",
   "name": "python3"
  },
  "language_info": {
   "codemirror_mode": {
    "name": "ipython",
    "version": 3
   },
   "file_extension": ".py",
   "mimetype": "text/x-python",
   "name": "python",
   "nbconvert_exporter": "python",
   "pygments_lexer": "ipython3",
   "version": "3.10.7"
  },
  "orig_nbformat": 4
 },
 "nbformat": 4,
 "nbformat_minor": 2
}
